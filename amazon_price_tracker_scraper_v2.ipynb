{
 "cells": [
  {
   "cell_type": "markdown",
   "id": "3bbb08b8",
   "metadata": {},
   "source": [
    "# Amazon Price Tracker Scraper (Configurable)\n",
    "A ready‑to‑run scraper that logs daily price data for **any** Amazon product. Just paste the product URL in the configuration cell."
   ]
  },
  {
   "cell_type": "code",
   "execution_count": 1,
   "id": "0e8664f2",
   "metadata": {},
   "outputs": [],
   "source": [
    "# 1. IMPORT LIBRARIES\n",
    "import requests\n",
    "from bs4 import BeautifulSoup\n",
    "import csv, datetime as dt, time, os, pandas as pd\n",
    "import matplotlib.pyplot as plt\n",
    "plt.style.use('default')"
   ]
  },
  {
   "cell_type": "code",
   "execution_count": 3,
   "id": "20336843",
   "metadata": {},
   "outputs": [],
   "source": [
    "# 2. CONFIGURATION \n",
    "# 🔗 Paste **any** Amazon product URL below.\n",
    "URL = \"https://www.amazon.com/dp/B095KS3FBG/ref=sbl_dpx_kitchen-electric-cookware_B095KS3FBG_00?th=1\"  \n",
    "\n",
    "HEADERS = {\n",
    "    \"User-Agent\": (\n",
    "        \"Mozilla/5.0 (Macintosh; Intel Mac OS X 10_15_7) \"\n",
    "        \"AppleWebKit/537.36 (KHTML, like Gecko) \"\n",
    "        \"Chrome/123.0.0.0 Safari/537.36\"\n",
    "    ),\n",
    "    \"Accept-Language\": \"en-US,en;q=0.9\",\n",
    "}\n",
    "\n",
    "CSV_FILE = \"amazon_price_history.csv\"   \n",
    "CHECK_INTERVAL_HRS = 24                  \n",
    "TARGET_PRICE = 59.99                     "
   ]
  },
  {
   "cell_type": "code",
   "execution_count": 5,
   "id": "2de14e0c",
   "metadata": {},
   "outputs": [],
   "source": [
    "# 3. SCRAPER FUNCTION \n",
    "def scrape_amazon(url: str):\n",
    "    \"\"\"Return (title, price) for the product.\"\"\"\n",
    "    resp = requests.get(url, headers=HEADERS, timeout=30)\n",
    "    resp.raise_for_status()\n",
    "    soup = BeautifulSoup(resp.text, \"lxml\")\n",
    "    title_tag = soup.find(id=\"productTitle\")\n",
    "    title = title_tag.get_text(strip=True) if title_tag else \"Unknown product\"\n",
    "    price_tag = soup.find(\"span\", class_=\"a-offscreen\")\n",
    "    price = None\n",
    "    if price_tag:\n",
    "        try:\n",
    "            price = float(price_tag.get_text(strip=True).replace(\"$\", \"\"))\n",
    "        except ValueError:\n",
    "            pass\n",
    "    return title, price"
   ]
  },
  {
   "cell_type": "code",
   "execution_count": 7,
   "id": "08ac0d7f",
   "metadata": {},
   "outputs": [],
   "source": [
    "# 4. DATA STORAGE\n",
    "def log_price(title: str, price):\n",
    "    today = dt.datetime.now().date()\n",
    "    file_exists = os.path.isfile(CSV_FILE)\n",
    "    with open(CSV_FILE, \"a\", newline=\"\", encoding=\"utf-8\") as f:\n",
    "        writer = csv.writer(f)\n",
    "        if not file_exists:\n",
    "            writer.writerow([\"date\", \"title\", \"price\"])\n",
    "        writer.writerow([today, title, price])"
   ]
  },
  {
   "cell_type": "code",
   "execution_count": 9,
   "id": "04564c99",
   "metadata": {},
   "outputs": [
    {
     "data": {
      "text/plain": [
       "'\\nimport smtplib, ssl\\nfrom email.message import EmailMessage\\nGMAIL_USER = os.getenv(\"GMAIL_USER\")\\nGMAIL_PASS = os.getenv(\"GMAIL_APP_PASS\")\\ndef send_email(title, price):\\n    msg = EmailMessage()\\n    msg[\"Subject\"] = f\"Price drop: {title} now ${price:.2f}\"\\n    msg[\"From\"] = GMAIL_USER\\n    msg[\"To\"] = GMAIL_USER\\n    msg.set_content(f\"Buy now: {URL}\")\\n    ctx = ssl.create_default_context()\\n    with smtplib.SMTP_SSL(\"smtp.gmail.com\", 465, context=ctx) as server:\\n        server.login(GMAIL_USER, GMAIL_PASS)\\n        server.send_message(msg)\\n'"
      ]
     },
     "execution_count": 9,
     "metadata": {},
     "output_type": "execute_result"
    }
   ],
   "source": [
    "# 5. OPTIONAL E‑MAIL ALERT \n",
    "# Uncomment + configure to receive alerts when price < TARGET_PRICE.\n",
    "'''\n",
    "import smtplib, ssl\n",
    "from email.message import EmailMessage\n",
    "GMAIL_USER = os.getenv(\"GMAIL_USER\")\n",
    "GMAIL_PASS = os.getenv(\"GMAIL_APP_PASS\")\n",
    "def send_email(title, price):\n",
    "    msg = EmailMessage()\n",
    "    msg[\"Subject\"] = f\"Price drop: {title} now ${price:.2f}\"\n",
    "    msg[\"From\"] = GMAIL_USER\n",
    "    msg[\"To\"] = GMAIL_USER\n",
    "    msg.set_content(f\"Buy now: {URL}\")\n",
    "    ctx = ssl.create_default_context()\n",
    "    with smtplib.SMTP_SSL(\"smtp.gmail.com\", 465, context=ctx) as server:\n",
    "        server.login(GMAIL_USER, GMAIL_PASS)\n",
    "        server.send_message(msg)\n",
    "'''"
   ]
  },
  {
   "cell_type": "code",
   "execution_count": null,
   "id": "339d96c6",
   "metadata": {},
   "outputs": [
    {
     "name": "stdout",
     "output_type": "stream",
     "text": [
      "2025-05-04 22:11:38.494761: Ninja Foodi Programmable 10-in-1 5-Quart Pressure Cooker and … $128.95\n"
     ]
    }
   ],
   "source": [
    "# 6. MAIN LOOP \n",
    "def main():\n",
    "    while True:\n",
    "        title, price = scrape_amazon(URL)\n",
    "        log_price(title, price)\n",
    "        print(f\"{dt.datetime.now()}: {title[:60]} … ${price}\")\n",
    "        # if price is not None and price < TARGET_PRICE:\n",
    "        #     send_email(title, price)\n",
    "        time.sleep(CHECK_INTERVAL_HRS * 3600)\n",
    "\n",
    "# Call main() only when running the notebook as a script.\n",
    "if __name__ == \"__main__\":\n",
    "    main()"
   ]
  },
  {
   "cell_type": "markdown",
   "id": "a5a61935",
   "metadata": {},
   "source": [
    "## Quick Exploratory Analysis\n",
    "After running for a few days, visualise the collected price history:"
   ]
  },
  {
   "cell_type": "code",
   "execution_count": null,
   "id": "30d14d5e",
   "metadata": {},
   "outputs": [],
   "source": [
    "df = pd.read_csv(CSV_FILE, parse_dates=[\"date\"])\n",
    "df.tail()"
   ]
  },
  {
   "cell_type": "code",
   "execution_count": null,
   "id": "8b035e43",
   "metadata": {},
   "outputs": [],
   "source": [
    "plt.figure(figsize=(8,4))\n",
    "plt.plot(df[\"date\"], df[\"price\"], marker=\"o\")\n",
    "plt.title(\"Amazon Price History\")\n",
    "plt.xlabel(\"Date\")\n",
    "plt.ylabel(\"Price (USD)\")\n",
    "plt.grid(True)\n",
    "plt.tight_layout()\n",
    "plt.show()"
   ]
  }
 ],
 "metadata": {
  "kernelspec": {
   "display_name": "Python [conda env:base] *",
   "language": "python",
   "name": "conda-base-py"
  },
  "language_info": {
   "codemirror_mode": {
    "name": "ipython",
    "version": 3
   },
   "file_extension": ".py",
   "mimetype": "text/x-python",
   "name": "python",
   "nbconvert_exporter": "python",
   "pygments_lexer": "ipython3",
   "version": "3.12.7"
  }
 },
 "nbformat": 4,
 "nbformat_minor": 5
}
